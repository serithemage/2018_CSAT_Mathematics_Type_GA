{
 "cells": [
  {
   "cell_type": "markdown",
   "metadata": {},
   "source": [
    "# 파이썬으로 풀어보는 2018학년도 대학수학능력시험 수학영역 가 형\n",
    "> [2017년도](https://github.com/serithemage/2017_CSAT_Mathematics_Type_GA)에 이어서 다시한번 풀이에 도전해 봅니다.\n",
    "\n",
    "- 문제는 [여기](http://cdnvod.yonhapnews.co.kr/yonhapnewsvod/public/20171123/2/2018_2.pdf)에서 확인하실 수 있습니다.\n",
    "- 실행결과는 [이쪽](http://mybinder.org/repo/serithemage/2018_csat_mathematics_type_ga)에서 확인 하실 수 있습니다.\n",
    "- 소스와 실행결과가 동기화 되지 않았을 경우 [여기](http://mybinder.org/status/serithemage/2018_csat_mathematics_type_ga)를 클릭 해 주세요.\n",
    "- 풀이에 대한 의견은 [issues](https://github.com/serithemage/2018_CSAT_Mathematics_Type_GA/issues)에 적어주세요.\n",
    "- 이 풀이는 [jupyter notebook](http://jupyter.org/)을 사용하고 있습니다.\n",
    "- 문제에 필요한 수식은 [여기](http://meta.math.stackexchange.com/questions/5020/mathjax-basic-tutorial-and-quick-reference)와 [여기](http://csrgxtu.github.io/2015/03/20/Writing-Mathematic-Fomulars-in-Markdown/)에서 참고하실 수 있습니다.\n",
    "- **관심있는 분들의 참여를 기다리고 있습니다!**\n"
   ]
  },
  {
   "cell_type": "markdown",
   "metadata": {},
   "source": [
    "$1.\\space 두\\space 백터\\space \\overrightarrow{a}=(3,-1),\\space \\overrightarrow{b}=(1,2)에\\space 대하여\\space 벡터 \\overrightarrow{a}+\\overrightarrow{b}의\\space 모든\\space 성분의\\space 합은?$"
   ]
  },
  {
   "cell_type": "code",
   "execution_count": 8,
   "metadata": {},
   "outputs": [
    {
     "data": {
      "text/plain": [
       "5"
      ]
     },
     "execution_count": 8,
     "metadata": {},
     "output_type": "execute_result"
    }
   ],
   "source": [
    "import numpy as np\n",
    "a = np.matrix([3,-1])\n",
    "b = np.matrix([1,2])\n",
    "np.sum(a+b)"
   ]
  },
  {
   "cell_type": "markdown",
   "metadata": {
    "collapsed": true
   },
   "source": [
    "$2.\\space\\lim_{x \\to 0}\\frac{ln(1+5x)}{e^{2x}-1}의\\space값은?$"
   ]
  },
  {
   "cell_type": "code",
   "execution_count": 12,
   "metadata": {},
   "outputs": [
    {
     "data": {
      "text/plain": [
       "mpf('-1.0')"
      ]
     },
     "execution_count": 12,
     "metadata": {},
     "output_type": "execute_result"
    }
   ],
   "source": [
    "from mpmath import *\n",
    "limit(lambda x: ((ln(1+5*x)/exp(2*x)-1)), 0)"
   ]
  },
  {
   "cell_type": "code",
   "execution_count": 10,
   "metadata": {},
   "outputs": [
    {
     "data": {
      "text/plain": [
       "mpf('-1.0')"
      ]
     },
     "execution_count": 10,
     "metadata": {},
     "output_type": "execute_result"
    }
   ],
   "source": []
  },
  {
   "cell_type": "code",
   "execution_count": null,
   "metadata": {},
   "outputs": [],
   "source": []
  }
 ],
 "metadata": {
  "kernelspec": {
   "display_name": "Python 3",
   "language": "python",
   "name": "python3"
  },
  "language_info": {
   "codemirror_mode": {
    "name": "ipython",
    "version": 3
   },
   "file_extension": ".py",
   "mimetype": "text/x-python",
   "name": "python",
   "nbconvert_exporter": "python",
   "pygments_lexer": "ipython3",
   "version": "3.6.2"
  }
 },
 "nbformat": 4,
 "nbformat_minor": 1
}
